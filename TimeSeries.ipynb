{
  "cells": [
    {
      "cell_type": "markdown",
      "metadata": {
        "id": "EAMgUDfpu6-Q"
      },
      "source": [
        "# Rendu TSA \n",
        "\n",
        "Mathieu Laversin \n",
        "Alexandra Mille egea\n",
        "Ryan Pegoud"
      ]
    },
    {
      "cell_type": "code",
      "execution_count": 28,
      "metadata": {
        "id": "Xuc7iohc5dHY"
      },
      "outputs": [],
      "source": [
        "import numpy as np\n",
        "import pandas as pd\n",
        "import matplotlib.pyplot as plt"
      ]
    },
    {
      "cell_type": "code",
      "execution_count": 29,
      "metadata": {
        "colab": {
          "base_uri": "https://localhost:8080/",
          "height": 397
        },
        "id": "881yY-QS7UWA",
        "outputId": "da33536c-da5c-4f21-9c7d-b81208b5a19c"
      },
      "outputs": [
        {
          "data": {
            "text/html": [
              "<div>\n",
              "<style scoped>\n",
              "    .dataframe tbody tr th:only-of-type {\n",
              "        vertical-align: middle;\n",
              "    }\n",
              "\n",
              "    .dataframe tbody tr th {\n",
              "        vertical-align: top;\n",
              "    }\n",
              "\n",
              "    .dataframe thead th {\n",
              "        text-align: right;\n",
              "    }\n",
              "</style>\n",
              "<table border=\"1\" class=\"dataframe\">\n",
              "  <thead>\n",
              "    <tr style=\"text-align: right;\">\n",
              "      <th></th>\n",
              "      <th>start</th>\n",
              "      <th>end</th>\n",
              "      <th>load</th>\n",
              "    </tr>\n",
              "  </thead>\n",
              "  <tbody>\n",
              "    <tr>\n",
              "      <th>0</th>\n",
              "      <td>2015-01-01 00:00:00+00:00</td>\n",
              "      <td>2015-01-01 01:00:00+00:00</td>\n",
              "      <td>70929.0</td>\n",
              "    </tr>\n",
              "    <tr>\n",
              "      <th>1</th>\n",
              "      <td>2015-01-01 01:00:00+00:00</td>\n",
              "      <td>2015-01-01 02:00:00+00:00</td>\n",
              "      <td>69773.0</td>\n",
              "    </tr>\n",
              "    <tr>\n",
              "      <th>2</th>\n",
              "      <td>2015-01-01 02:00:00+00:00</td>\n",
              "      <td>2015-01-01 03:00:00+00:00</td>\n",
              "      <td>66417.0</td>\n",
              "    </tr>\n",
              "    <tr>\n",
              "      <th>3</th>\n",
              "      <td>2015-01-01 03:00:00+00:00</td>\n",
              "      <td>2015-01-01 04:00:00+00:00</td>\n",
              "      <td>64182.0</td>\n",
              "    </tr>\n",
              "    <tr>\n",
              "      <th>4</th>\n",
              "      <td>2015-01-01 04:00:00+00:00</td>\n",
              "      <td>2015-01-01 05:00:00+00:00</td>\n",
              "      <td>63859.0</td>\n",
              "    </tr>\n",
              "  </tbody>\n",
              "</table>\n",
              "</div>"
            ],
            "text/plain": [
              "                       start                        end     load\n",
              "0  2015-01-01 00:00:00+00:00  2015-01-01 01:00:00+00:00  70929.0\n",
              "1  2015-01-01 01:00:00+00:00  2015-01-01 02:00:00+00:00  69773.0\n",
              "2  2015-01-01 02:00:00+00:00  2015-01-01 03:00:00+00:00  66417.0\n",
              "3  2015-01-01 03:00:00+00:00  2015-01-01 04:00:00+00:00  64182.0\n",
              "4  2015-01-01 04:00:00+00:00  2015-01-01 05:00:00+00:00  63859.0"
            ]
          },
          "execution_count": 29,
          "metadata": {},
          "output_type": "execute_result"
        }
      ],
      "source": [
        "df = pd.read_csv('fr.csv')\n",
        "df.head()"
      ]
    },
    {
      "cell_type": "markdown",
      "metadata": {
        "id": "WmVDyPWD9942"
      },
      "source": [
        "# **Descriptive analysis**"
      ]
    },
    {
      "cell_type": "code",
      "execution_count": 30,
      "metadata": {
        "colab": {
          "base_uri": "https://localhost:8080/",
          "height": 300
        },
        "id": "_pLaC43X94S0",
        "outputId": "d1e41010-2eb7-4457-a8b8-e06db92b72a3"
      },
      "outputs": [
        {
          "data": {
            "text/html": [
              "<div>\n",
              "<style scoped>\n",
              "    .dataframe tbody tr th:only-of-type {\n",
              "        vertical-align: middle;\n",
              "    }\n",
              "\n",
              "    .dataframe tbody tr th {\n",
              "        vertical-align: top;\n",
              "    }\n",
              "\n",
              "    .dataframe thead th {\n",
              "        text-align: right;\n",
              "    }\n",
              "</style>\n",
              "<table border=\"1\" class=\"dataframe\">\n",
              "  <thead>\n",
              "    <tr style=\"text-align: right;\">\n",
              "      <th></th>\n",
              "      <th>load</th>\n",
              "    </tr>\n",
              "  </thead>\n",
              "  <tbody>\n",
              "    <tr>\n",
              "      <th>count</th>\n",
              "      <td>48870.000000</td>\n",
              "    </tr>\n",
              "    <tr>\n",
              "      <th>mean</th>\n",
              "      <td>53556.308267</td>\n",
              "    </tr>\n",
              "    <tr>\n",
              "      <th>std</th>\n",
              "      <td>11682.584881</td>\n",
              "    </tr>\n",
              "    <tr>\n",
              "      <th>min</th>\n",
              "      <td>29398.000000</td>\n",
              "    </tr>\n",
              "    <tr>\n",
              "      <th>25%</th>\n",
              "      <td>44616.000000</td>\n",
              "    </tr>\n",
              "    <tr>\n",
              "      <th>50%</th>\n",
              "      <td>51932.000000</td>\n",
              "    </tr>\n",
              "    <tr>\n",
              "      <th>75%</th>\n",
              "      <td>61629.750000</td>\n",
              "    </tr>\n",
              "    <tr>\n",
              "      <th>max</th>\n",
              "      <td>158000.000000</td>\n",
              "    </tr>\n",
              "  </tbody>\n",
              "</table>\n",
              "</div>"
            ],
            "text/plain": [
              "                load\n",
              "count   48870.000000\n",
              "mean    53556.308267\n",
              "std     11682.584881\n",
              "min     29398.000000\n",
              "25%     44616.000000\n",
              "50%     51932.000000\n",
              "75%     61629.750000\n",
              "max    158000.000000"
            ]
          },
          "execution_count": 30,
          "metadata": {},
          "output_type": "execute_result"
        }
      ],
      "source": [
        "df.describe()"
      ]
    },
    {
      "cell_type": "code",
      "execution_count": 61,
      "metadata": {},
      "outputs": [
        {
          "data": {
            "image/png": "[encoded data removed]",
            "text/plain": [
              "<Figure size 432x288 with 1 Axes>"
            ]
          },
          "metadata": {
            "needs_background": "light"
          },
          "output_type": "display_data"
        }
      ],
      "source": [
        "df.boxplot(rot=90)\n",
        "plt.title(\"Distribution per month\")\n",
        "plt.show()"
      ]
    },
    {
      "cell_type": "markdown",
      "metadata": {},
      "source": [
        "We actually see that there is a correct distribution, the data is quite clean. There is one outlier in november but actually could be a day with a huge load nothing else. "
      ]
    },
    {
      "cell_type": "markdown",
      "metadata": {
        "id": "7meCZXOK-ICf"
      },
      "source": [
        "# **Down sampling**"
      ]
    },
    {
      "cell_type": "code",
      "execution_count": 31,
      "metadata": {
        "id": "VP2NHbXT7-Tu"
      },
      "outputs": [],
      "source": [
        "df['start'] = pd.to_datetime(df['start'], format='%Y/%m/%d %H:%M:%S')\n",
        "df['end'] = pd.to_datetime(df['end'], format='%Y/%m/%d %H:%M:%S')\n",
        "\n",
        "df.set_index('start', inplace=True)"
      ]
    },
    {
      "cell_type": "code",
      "execution_count": 32,
      "metadata": {
        "colab": {
          "base_uri": "https://localhost:8080/",
          "height": 295
        },
        "id": "E5omb92O-WFA",
        "outputId": "4524b388-433e-460c-9862-f45e699fca24"
      },
      "outputs": [
        {
          "data": {
            "image/png": "[encoded data removed]",
            "text/plain": [
              "<Figure size 432x288 with 1 Axes>"
            ]
          },
          "metadata": {
            "needs_background": "light"
          },
          "output_type": "display_data"
        }
      ],
      "source": [
        "df[\"load\"].asfreq('Y').plot()\n",
        "plt.title('Time series downsampled to years')\n",
        "plt.show()"
      ]
    },
    {
      "cell_type": "code",
      "execution_count": 33,
      "metadata": {
        "colab": {
          "base_uri": "https://localhost:8080/",
          "height": 269
        },
        "id": "JgO4_QrF_N61",
        "outputId": "b6946dc0-47d2-4d82-c992-ab39f5de7503"
      },
      "outputs": [
        {
          "data": {
            "text/html": [
              "<div>\n",
              "<style scoped>\n",
              "    .dataframe tbody tr th:only-of-type {\n",
              "        vertical-align: middle;\n",
              "    }\n",
              "\n",
              "    .dataframe tbody tr th {\n",
              "        vertical-align: top;\n",
              "    }\n",
              "\n",
              "    .dataframe thead th {\n",
              "        text-align: right;\n",
              "    }\n",
              "</style>\n",
              "<table border=\"1\" class=\"dataframe\">\n",
              "  <thead>\n",
              "    <tr style=\"text-align: right;\">\n",
              "      <th></th>\n",
              "      <th>load</th>\n",
              "    </tr>\n",
              "    <tr>\n",
              "      <th>year</th>\n",
              "      <th></th>\n",
              "    </tr>\n",
              "  </thead>\n",
              "  <tbody>\n",
              "    <tr>\n",
              "      <th>2015</th>\n",
              "      <td>470012917.0</td>\n",
              "    </tr>\n",
              "    <tr>\n",
              "      <th>2016</th>\n",
              "      <td>477474024.0</td>\n",
              "    </tr>\n",
              "    <tr>\n",
              "      <th>2017</th>\n",
              "      <td>475934939.0</td>\n",
              "    </tr>\n",
              "    <tr>\n",
              "      <th>2018</th>\n",
              "      <td>470394794.0</td>\n",
              "    </tr>\n",
              "    <tr>\n",
              "      <th>2019</th>\n",
              "      <td>467000414.0</td>\n",
              "    </tr>\n",
              "    <tr>\n",
              "      <th>2020</th>\n",
              "      <td>256479697.0</td>\n",
              "    </tr>\n",
              "  </tbody>\n",
              "</table>\n",
              "</div>"
            ],
            "text/plain": [
              "             load\n",
              "year             \n",
              "2015  470012917.0\n",
              "2016  477474024.0\n",
              "2017  475934939.0\n",
              "2018  470394794.0\n",
              "2019  467000414.0\n",
              "2020  256479697.0"
            ]
          },
          "execution_count": 33,
          "metadata": {},
          "output_type": "execute_result"
        }
      ],
      "source": [
        "df['year'] = pd.DatetimeIndex(df.index).year\n",
        "yearly = df.groupby('year').agg('sum')\n",
        "yearly"
      ]
    },
    {
      "cell_type": "markdown",
      "metadata": {
        "id": "O6vrhX9cEpT5"
      },
      "source": [
        "# **Monthly Moving Averages**"
      ]
    },
    {
      "cell_type": "code",
      "execution_count": 34,
      "metadata": {
        "colab": {
          "base_uri": "https://localhost:8080/",
          "height": 455
        },
        "id": "ofkr1q4fAgcd",
        "outputId": "589722f2-b164-4675-9398-c2a24a0b8c39"
      },
      "outputs": [
        {
          "data": {
            "text/html": [
              "<div>\n",
              "<style scoped>\n",
              "    .dataframe tbody tr th:only-of-type {\n",
              "        vertical-align: middle;\n",
              "    }\n",
              "\n",
              "    .dataframe tbody tr th {\n",
              "        vertical-align: top;\n",
              "    }\n",
              "\n",
              "    .dataframe thead th {\n",
              "        text-align: right;\n",
              "    }\n",
              "</style>\n",
              "<table border=\"1\" class=\"dataframe\">\n",
              "  <thead>\n",
              "    <tr style=\"text-align: right;\">\n",
              "      <th></th>\n",
              "      <th></th>\n",
              "      <th>load</th>\n",
              "    </tr>\n",
              "    <tr>\n",
              "      <th>year</th>\n",
              "      <th>month</th>\n",
              "      <th></th>\n",
              "    </tr>\n",
              "  </thead>\n",
              "  <tbody>\n",
              "    <tr>\n",
              "      <th rowspan=\"5\" valign=\"top\">2015</th>\n",
              "      <th>1</th>\n",
              "      <td>69523.116935</td>\n",
              "    </tr>\n",
              "    <tr>\n",
              "      <th>2</th>\n",
              "      <td>71374.474702</td>\n",
              "    </tr>\n",
              "    <tr>\n",
              "      <th>3</th>\n",
              "      <td>60624.438172</td>\n",
              "    </tr>\n",
              "    <tr>\n",
              "      <th>4</th>\n",
              "      <td>50608.841667</td>\n",
              "    </tr>\n",
              "    <tr>\n",
              "      <th>5</th>\n",
              "      <td>45209.040377</td>\n",
              "    </tr>\n",
              "    <tr>\n",
              "      <th>...</th>\n",
              "      <th>...</th>\n",
              "      <td>...</td>\n",
              "    </tr>\n",
              "    <tr>\n",
              "      <th rowspan=\"5\" valign=\"top\">2020</th>\n",
              "      <th>3</th>\n",
              "      <td>55252.318489</td>\n",
              "    </tr>\n",
              "    <tr>\n",
              "      <th>4</th>\n",
              "      <td>42409.579167</td>\n",
              "    </tr>\n",
              "    <tr>\n",
              "      <th>5</th>\n",
              "      <td>40946.911290</td>\n",
              "    </tr>\n",
              "    <tr>\n",
              "      <th>6</th>\n",
              "      <td>42225.624478</td>\n",
              "    </tr>\n",
              "    <tr>\n",
              "      <th>7</th>\n",
              "      <td>44123.798387</td>\n",
              "    </tr>\n",
              "  </tbody>\n",
              "</table>\n",
              "<p>67 rows × 1 columns</p>\n",
              "</div>"
            ],
            "text/plain": [
              "                    load\n",
              "year month              \n",
              "2015 1      69523.116935\n",
              "     2      71374.474702\n",
              "     3      60624.438172\n",
              "     4      50608.841667\n",
              "     5      45209.040377\n",
              "...                  ...\n",
              "2020 3      55252.318489\n",
              "     4      42409.579167\n",
              "     5      40946.911290\n",
              "     6      42225.624478\n",
              "     7      44123.798387\n",
              "\n",
              "[67 rows x 1 columns]"
            ]
          },
          "execution_count": 34,
          "metadata": {},
          "output_type": "execute_result"
        }
      ],
      "source": [
        "df['month'] = pd.DatetimeIndex(df.index).month\n",
        "df_month_year= df.groupby(['year','month']).agg('mean')\n",
        "df_month_year"
      ]
    },
    {
      "cell_type": "code",
      "execution_count": 35,
      "metadata": {
        "colab": {
          "base_uri": "https://localhost:8080/",
          "height": 295
        },
        "id": "q3BDOyTrCqbL",
        "outputId": "75467a65-2b20-4c6a-f868-c6e1b8d35bff"
      },
      "outputs": [
        {
          "data": {
            "image/png": "[encoded data removed]",
            "text/plain": [
              "<Figure size 432x288 with 1 Axes>"
            ]
          },
          "metadata": {
            "needs_background": "light"
          },
          "output_type": "display_data"
        }
      ],
      "source": [
        "df[\"load\"].asfreq('M').plot(label='monthly sum')\n",
        "\n",
        "rolling_load = df.load.rolling('30D').mean()\n",
        "rolling_load.plot(label='rolling')\n",
        "plt.legend()\n",
        "plt.title('Time series downsampled to months')\n",
        "plt.show()"
      ]
    },
    {
      "cell_type": "markdown",
      "metadata": {
        "id": "Y__DzZr_HhWx"
      },
      "source": [
        "# **Seasonality**"
      ]
    },
    {
      "cell_type": "code",
      "execution_count": 49,
      "metadata": {
        "colab": {
          "base_uri": "https://localhost:8080/",
          "height": 455
        },
        "id": "KM_28vYLIm-E",
        "outputId": "8303a445-fbdb-4d5e-c990-bd709f3811f4"
      },
      "outputs": [
        {
          "data": {
            "text/plain": [
              "year  month\n",
              "2015  1        69523.116935\n",
              "      2        71374.474702\n",
              "      3        60624.438172\n",
              "      4        50608.841667\n",
              "      5        45209.040377\n",
              "                   ...     \n",
              "2020  3        55252.318489\n",
              "      4        42409.579167\n",
              "      5        40946.911290\n",
              "      6        42225.624478\n",
              "      7        44123.798387\n",
              "Name: value, Length: 67, dtype: float64"
            ]
          },
          "execution_count": 49,
          "metadata": {},
          "output_type": "execute_result"
        }
      ],
      "source": [
        "#melted_y_m = df.melt(id_vars=['year','month'], value_vars='load').drop('variable',axis=1)\n",
        "melted_means = melted_y_m.groupby(['year','month']).agg('mean')\n",
        "melted_means.value"
      ]
    },
    {
      "cell_type": "code",
      "execution_count": 37,
      "metadata": {
        "colab": {
          "base_uri": "https://localhost:8080/",
          "height": 513
        },
        "id": "wiesvaFRKvmi",
        "outputId": "b6672fba-a76d-4c8a-f20a-bcdbd58a5a3d"
      },
      "outputs": [
        {
          "data": {
            "image/png": "[encoded data removed]",
            "text/plain": [
              "<Figure size 648x504 with 6 Axes>"
            ]
          },
          "metadata": {
            "needs_background": "light"
          },
          "output_type": "display_data"
        }
      ],
      "source": [
        "melted_means.unstack(level=0).plot(kind='bar', subplots=True, rot=0, figsize=(9, 7), layout=(3,2))\n",
        "plt.title('Average load per month for each year')\n",
        "plt.tight_layout()"
      ]
    },
    {
      "cell_type": "code",
      "execution_count": 38,
      "metadata": {
        "id": "JKgpJPspMX0D"
      },
      "outputs": [],
      "source": [
        "melted_means['year'] = [melted_means.index[i][0] for i in range(melted_means.shape[0])]"
      ]
    },
    {
      "cell_type": "code",
      "execution_count": 39,
      "metadata": {
        "colab": {
          "base_uri": "https://localhost:8080/",
          "height": 297
        },
        "id": "5rb3WAn4KxaL",
        "outputId": "bc1f664f-86c7-49fd-f908-00407a575de9"
      },
      "outputs": [
        {
          "data": {
            "image/png": "[encoded data removed]",
            "text/plain": [
              "<Figure size 432x288 with 4 Axes>"
            ]
          },
          "metadata": {
            "needs_background": "light"
          },
          "output_type": "display_data"
        }
      ],
      "source": [
        "import statsmodels.api as sm\n",
        "\n",
        "values = melted_means[melted_means['year']<2020]['value'] # monthly means between 2015 and 2019 (2020 is incomplete)\n",
        "values = np.array(values, dtype=object)\n",
        "decomposed = sm.tsa.seasonal_decompose(values, period=12) # yearly seasonality\n",
        "decomposed.plot()\n",
        "plt.show()"
      ]
    },
    {
      "cell_type": "markdown",
      "metadata": {},
      "source": [
        "We actually see the additivity of our data with the trend."
      ]
    },
    {
      "cell_type": "code",
      "execution_count": 40,
      "metadata": {
        "colab": {
          "base_uri": "https://localhost:8080/",
          "height": 282
        },
        "id": "U6wrmjzaW2il",
        "outputId": "8ca3d80b-5863-4e14-c339-106424288695"
      },
      "outputs": [
        {
          "data": {
            "text/plain": [
              "[<matplotlib.lines.Line2D at 0x7fcfc50b22b0>]"
            ]
          },
          "execution_count": 40,
          "metadata": {},
          "output_type": "execute_result"
        },
        {
          "data": {
            "image/png": "[encoded data removed]",
            "text/plain": [
              "<Figure size 432x288 with 1 Axes>"
            ]
          },
          "metadata": {
            "needs_background": "light"
          },
          "output_type": "display_data"
        }
      ],
      "source": [
        "plt.plot(values)"
      ]
    },
    {
      "cell_type": "code",
      "execution_count": 41,
      "metadata": {
        "id": "HRn8xledXvS6"
      },
      "outputs": [],
      "source": [
        "train = melted_means[melted_means['year']<2018]\n",
        "test = melted_means[melted_means['year'].between(2018,2020)]"
      ]
    },
    {
      "cell_type": "code",
      "execution_count": 42,
      "metadata": {
        "id": "ncVNZ1I3Wqrb"
      },
      "outputs": [],
      "source": [
        "# from statsmodels.tsa.holtwinters import ExponentialSmoothing\n",
        "# model = ExponentialSmoothing(values, trend='add')\n",
        "# model_fit = model.fit()\n",
        "# yhat = model_fit.predict(...)"
      ]
    },
    {
      "cell_type": "markdown",
      "metadata": {},
      "source": [
        "\n",
        "\n",
        "Forecast with 2 methods\n",
        "\n",
        "Explain our data, interpret result\n",
        "\n",
        "Add / Mult\n",
        "\n",
        "Expliquer \n"
      ]
    },
    {
      "cell_type": "markdown",
      "metadata": {},
      "source": [
        "Seasonality ok ! "
      ]
    },
    {
      "cell_type": "code",
      "execution_count": 43,
      "metadata": {},
      "outputs": [],
      "source": [
        "list_2015  = np.array(melted_means[melted_means['year'] == 2015].value)\n",
        "\n",
        "list_2015_BBT = list_2015.argsort()[::-1]"
      ]
    },
    {
      "cell_type": "code",
      "execution_count": 44,
      "metadata": {},
      "outputs": [
        {
          "data": {
            "text/html": [
              "<div>\n",
              "<style scoped>\n",
              "    .dataframe tbody tr th:only-of-type {\n",
              "        vertical-align: middle;\n",
              "    }\n",
              "\n",
              "    .dataframe tbody tr th {\n",
              "        vertical-align: top;\n",
              "    }\n",
              "\n",
              "    .dataframe thead th {\n",
              "        text-align: right;\n",
              "    }\n",
              "</style>\n",
              "<table border=\"1\" class=\"dataframe\">\n",
              "  <thead>\n",
              "    <tr style=\"text-align: right;\">\n",
              "      <th></th>\n",
              "      <th>1</th>\n",
              "      <th>2</th>\n",
              "      <th>3</th>\n",
              "      <th>4</th>\n",
              "      <th>5</th>\n",
              "      <th>6</th>\n",
              "      <th>7</th>\n",
              "      <th>8</th>\n",
              "      <th>9</th>\n",
              "      <th>10</th>\n",
              "      <th>11</th>\n",
              "      <th>12</th>\n",
              "    </tr>\n",
              "  </thead>\n",
              "  <tbody>\n",
              "    <tr>\n",
              "      <th>2015</th>\n",
              "      <td>7</td>\n",
              "      <td>4</td>\n",
              "      <td>5</td>\n",
              "      <td>8</td>\n",
              "      <td>6</td>\n",
              "      <td>3</td>\n",
              "      <td>9</td>\n",
              "      <td>10</td>\n",
              "      <td>11</td>\n",
              "      <td>2</td>\n",
              "      <td>0</td>\n",
              "      <td>1</td>\n",
              "    </tr>\n",
              "    <tr>\n",
              "      <th>2016</th>\n",
              "      <td>7</td>\n",
              "      <td>6</td>\n",
              "      <td>5</td>\n",
              "      <td>8</td>\n",
              "      <td>4</td>\n",
              "      <td>9</td>\n",
              "      <td>3</td>\n",
              "      <td>10</td>\n",
              "      <td>2</td>\n",
              "      <td>1</td>\n",
              "      <td>0</td>\n",
              "      <td>11</td>\n",
              "    </tr>\n",
              "    <tr>\n",
              "      <th>2017</th>\n",
              "      <td>7</td>\n",
              "      <td>6</td>\n",
              "      <td>5</td>\n",
              "      <td>8</td>\n",
              "      <td>4</td>\n",
              "      <td>9</td>\n",
              "      <td>3</td>\n",
              "      <td>2</td>\n",
              "      <td>10</td>\n",
              "      <td>1</td>\n",
              "      <td>11</td>\n",
              "      <td>0</td>\n",
              "    </tr>\n",
              "    <tr>\n",
              "      <th>2018</th>\n",
              "      <td>7</td>\n",
              "      <td>5</td>\n",
              "      <td>4</td>\n",
              "      <td>8</td>\n",
              "      <td>6</td>\n",
              "      <td>9</td>\n",
              "      <td>3</td>\n",
              "      <td>10</td>\n",
              "      <td>11</td>\n",
              "      <td>2</td>\n",
              "      <td>0</td>\n",
              "      <td>1</td>\n",
              "    </tr>\n",
              "    <tr>\n",
              "      <th>2019</th>\n",
              "      <td>7</td>\n",
              "      <td>8</td>\n",
              "      <td>5</td>\n",
              "      <td>6</td>\n",
              "      <td>4</td>\n",
              "      <td>9</td>\n",
              "      <td>3</td>\n",
              "      <td>2</td>\n",
              "      <td>10</td>\n",
              "      <td>11</td>\n",
              "      <td>1</td>\n",
              "      <td>0</td>\n",
              "    </tr>\n",
              "  </tbody>\n",
              "</table>\n",
              "</div>"
            ],
            "text/plain": [
              "      1  2  3  4  5  6  7   8   9  10  11  12\n",
              "2015  7  4  5  8  6  3  9  10  11   2   0   1\n",
              "2016  7  6  5  8  4  9  3  10   2   1   0  11\n",
              "2017  7  6  5  8  4  9  3   2  10   1  11   0\n",
              "2018  7  5  4  8  6  9  3  10  11   2   0   1\n",
              "2019  7  8  5  6  4  9  3   2  10  11   1   0"
            ]
          },
          "execution_count": 44,
          "metadata": {},
          "output_type": "execute_result"
        }
      ],
      "source": [
        "list_2015  = np.array(melted_means[melted_means['year'] == 2015].value)\n",
        "list_2016  = np.array(melted_means[melted_means['year'] == 2016].value)\n",
        "list_2017  = np.array(melted_means[melted_means['year'] == 2017].value)\n",
        "list_2018  = np.array(melted_means[melted_means['year'] == 2018].value)\n",
        "list_2019  = np.array(melted_means[melted_means['year'] == 2019].value)\n",
        "\n",
        "list_tot = zip(list_2015,list_2016, list_2017, list_2018,list_2019)\n",
        "list_tot\n",
        "\n",
        "df = pd.DataFrame(list_tot, columns= ['2015', '2016', '2017', '2018','2019'],index=  ['1', '2', '3', '4', '5', '6','7','8', '9', '10', '11', '12'])\n",
        "df = df.T\n",
        "\n",
        "#find the index sorted\n",
        "df_BBT = df.apply(lambda x : np.argsort(x)[::-1], axis = 1)\n",
        "\n",
        "\n",
        "\n",
        "df_BBT = pd.DataFrame(df_BBT,columns=  ['1', '2', '3', '4', '5', '6','7','8', '9', '10', '11', '12'] )\n",
        "        \n",
        "df_BBT\n",
        "\n",
        "\n"
      ]
    },
    {
      "cell_type": "code",
      "execution_count": 53,
      "metadata": {},
      "outputs": [
        {
          "data": {
            "text/html": [
              "<div>\n",
              "<style scoped>\n",
              "    .dataframe tbody tr th:only-of-type {\n",
              "        vertical-align: middle;\n",
              "    }\n",
              "\n",
              "    .dataframe tbody tr th {\n",
              "        vertical-align: top;\n",
              "    }\n",
              "\n",
              "    .dataframe thead th {\n",
              "        text-align: right;\n",
              "    }\n",
              "</style>\n",
              "<table border=\"1\" class=\"dataframe\">\n",
              "  <thead>\n",
              "    <tr style=\"text-align: right;\">\n",
              "      <th></th>\n",
              "      <th>1</th>\n",
              "      <th>2</th>\n",
              "      <th>3</th>\n",
              "      <th>4</th>\n",
              "      <th>5</th>\n",
              "      <th>6</th>\n",
              "      <th>7</th>\n",
              "      <th>8</th>\n",
              "      <th>9</th>\n",
              "      <th>10</th>\n",
              "      <th>11</th>\n",
              "      <th>12</th>\n",
              "    </tr>\n",
              "  </thead>\n",
              "  <tbody>\n",
              "    <tr>\n",
              "      <th>2015</th>\n",
              "      <td>69523.116935</td>\n",
              "      <td>71374.474702</td>\n",
              "      <td>60624.438172</td>\n",
              "      <td>50608.841667</td>\n",
              "      <td>45209.040377</td>\n",
              "      <td>45791.429167</td>\n",
              "      <td>46594.583333</td>\n",
              "      <td>42179.075269</td>\n",
              "      <td>45854.165278</td>\n",
              "      <td>52204.977151</td>\n",
              "      <td>55992.606944</td>\n",
              "      <td>59144.080645</td>\n",
              "    </tr>\n",
              "    <tr>\n",
              "      <th>2016</th>\n",
              "      <td>66238.393001</td>\n",
              "      <td>65456.584770</td>\n",
              "      <td>62657.708333</td>\n",
              "      <td>53561.547222</td>\n",
              "      <td>46039.493280</td>\n",
              "      <td>45074.777778</td>\n",
              "      <td>45063.494624</td>\n",
              "      <td>43061.591644</td>\n",
              "      <td>46014.625869</td>\n",
              "      <td>51370.367925</td>\n",
              "      <td>60905.600000</td>\n",
              "      <td>67580.565860</td>\n",
              "    </tr>\n",
              "    <tr>\n",
              "      <th>2017</th>\n",
              "      <td>76576.409946</td>\n",
              "      <td>64492.857360</td>\n",
              "      <td>56649.130728</td>\n",
              "      <td>50570.852778</td>\n",
              "      <td>46599.579301</td>\n",
              "      <td>46285.769444</td>\n",
              "      <td>45394.674731</td>\n",
              "      <td>42969.552419</td>\n",
              "      <td>46379.306944</td>\n",
              "      <td>48739.939271</td>\n",
              "      <td>61332.721836</td>\n",
              "      <td>68105.079301</td>\n",
              "    </tr>\n",
              "    <tr>\n",
              "      <th>2018</th>\n",
              "      <td>64082.051075</td>\n",
              "      <td>73514.922619</td>\n",
              "      <td>63991.896366</td>\n",
              "      <td>49617.140473</td>\n",
              "      <td>45009.065860</td>\n",
              "      <td>44546.628651</td>\n",
              "      <td>46125.818548</td>\n",
              "      <td>43033.874154</td>\n",
              "      <td>45067.147222</td>\n",
              "      <td>49439.654003</td>\n",
              "      <td>59837.315278</td>\n",
              "      <td>62741.384615</td>\n",
              "    </tr>\n",
              "    <tr>\n",
              "      <th>2019</th>\n",
              "      <td>71653.067204</td>\n",
              "      <td>64792.186012</td>\n",
              "      <td>57063.743280</td>\n",
              "      <td>52297.087866</td>\n",
              "      <td>47382.020161</td>\n",
              "      <td>44931.127778</td>\n",
              "      <td>46268.998645</td>\n",
              "      <td>42090.655914</td>\n",
              "      <td>44486.911111</td>\n",
              "      <td>48095.805930</td>\n",
              "      <td>60150.695833</td>\n",
              "      <td>62055.150740</td>\n",
              "    </tr>\n",
              "  </tbody>\n",
              "</table>\n",
              "</div>"
            ],
            "text/plain": [
              "                 1             2             3             4             5  \\\n",
              "2015  69523.116935  71374.474702  60624.438172  50608.841667  45209.040377   \n",
              "2016  66238.393001  65456.584770  62657.708333  53561.547222  46039.493280   \n",
              "2017  76576.409946  64492.857360  56649.130728  50570.852778  46599.579301   \n",
              "2018  64082.051075  73514.922619  63991.896366  49617.140473  45009.065860   \n",
              "2019  71653.067204  64792.186012  57063.743280  52297.087866  47382.020161   \n",
              "\n",
              "                 6             7             8             9            10  \\\n",
              "2015  45791.429167  46594.583333  42179.075269  45854.165278  52204.977151   \n",
              "2016  45074.777778  45063.494624  43061.591644  46014.625869  51370.367925   \n",
              "2017  46285.769444  45394.674731  42969.552419  46379.306944  48739.939271   \n",
              "2018  44546.628651  46125.818548  43033.874154  45067.147222  49439.654003   \n",
              "2019  44931.127778  46268.998645  42090.655914  44486.911111  48095.805930   \n",
              "\n",
              "                11            12  \n",
              "2015  55992.606944  59144.080645  \n",
              "2016  60905.600000  67580.565860  \n",
              "2017  61332.721836  68105.079301  \n",
              "2018  59837.315278  62741.384615  \n",
              "2019  60150.695833  62055.150740  "
            ]
          },
          "execution_count": 53,
          "metadata": {},
          "output_type": "execute_result"
        }
      ],
      "source": [
        "df"
      ]
    },
    {
      "cell_type": "markdown",
      "metadata": {},
      "source": [
        "As the dataframe is quite simple we can see that the seasonality is rigid cause we can see a patern of month. "
      ]
    },
    {
      "cell_type": "markdown",
      "metadata": {},
      "source": [
        "Find the most frequent in the list and make a dataframe of the most frequent to see if the data is seasonal "
      ]
    },
    {
      "cell_type": "code",
      "execution_count": 52,
      "metadata": {},
      "outputs": [
        {
          "ename": "ValueError",
          "evalue": "Unable to determine period from endog",
          "output_type": "error",
          "traceback": [
            "\u001b[0;31m---------------------------------------------------------------------------\u001b[0m",
            "\u001b[0;31mValueError\u001b[0m                                Traceback (most recent call last)",
            "\u001b[0;32m<ipython-input-52-124730f9f84e>\u001b[0m in \u001b[0;36m<module>\u001b[0;34m\u001b[0m\n\u001b[1;32m      2\u001b[0m \u001b[0;34m\u001b[0m\u001b[0m\n\u001b[1;32m      3\u001b[0m \u001b[0;31m# Set robust to True to handle outliers\u001b[0m\u001b[0;34m\u001b[0m\u001b[0;34m\u001b[0m\u001b[0;34m\u001b[0m\u001b[0m\n\u001b[0;32m----> 4\u001b[0;31m \u001b[0mres\u001b[0m \u001b[0;34m=\u001b[0m \u001b[0mSTL\u001b[0m\u001b[0;34m(\u001b[0m\u001b[0mnp\u001b[0m\u001b[0;34m.\u001b[0m\u001b[0marray\u001b[0m\u001b[0;34m(\u001b[0m\u001b[0mmelted_means\u001b[0m\u001b[0;34m.\u001b[0m\u001b[0mvalue\u001b[0m\u001b[0;34m)\u001b[0m\u001b[0;34m,\u001b[0m \u001b[0mrobust\u001b[0m \u001b[0;34m=\u001b[0m \u001b[0;32mTrue\u001b[0m\u001b[0;34m)\u001b[0m\u001b[0;34m.\u001b[0m\u001b[0mfit\u001b[0m\u001b[0;34m(\u001b[0m\u001b[0;34m)\u001b[0m\u001b[0;34m\u001b[0m\u001b[0;34m\u001b[0m\u001b[0m\n\u001b[0m\u001b[1;32m      5\u001b[0m \u001b[0mres\u001b[0m\u001b[0;34m.\u001b[0m\u001b[0mplot\u001b[0m\u001b[0;34m(\u001b[0m\u001b[0;34m)\u001b[0m\u001b[0;34m\u001b[0m\u001b[0;34m\u001b[0m\u001b[0m\n\u001b[1;32m      6\u001b[0m \u001b[0mplt\u001b[0m\u001b[0;34m.\u001b[0m\u001b[0mshow\u001b[0m\u001b[0;34m(\u001b[0m\u001b[0;34m)\u001b[0m\u001b[0;34m\u001b[0m\u001b[0;34m\u001b[0m\u001b[0m\n",
            "\u001b[0;32mstatsmodels/tsa/_stl.pyx\u001b[0m in \u001b[0;36mstatsmodels.tsa._stl.STL.__init__\u001b[0;34m()\u001b[0m\n",
            "\u001b[0;31mValueError\u001b[0m: Unable to determine period from endog"
          ]
        }
      ],
      "source": [
        "from statsmodels.tsa.seasonal import STL\n",
        "\n",
        "# Set robust to True to handle outliers\n",
        "res = STL(np.array(melted_means.value), robust = True).fit() \n",
        "res.plot()\n",
        "plt.show()"
      ]
    },
    {
      "cell_type": "markdown",
      "metadata": {},
      "source": [
        "Phophet "
      ]
    },
    {
      "cell_type": "markdown",
      "metadata": {},
      "source": []
    }
  ],
  "metadata": {
    "colab": {
      "collapsed_sections": [],
      "provenance": []
    },
    "kernelspec": {
      "display_name": "Python 3.10.7 64-bit",
      "language": "python",
      "name": "python3"
    },
    "language_info": {
      "codemirror_mode": {
        "name": "ipython",
        "version": 3
      },
      "file_extension": ".py",
      "mimetype": "text/x-python",
      "name": "python",
      "nbconvert_exporter": "python",
      "pygments_lexer": "ipython3",
      "version": "3.8.5"
    },
    "vscode": {
      "interpreter": {
        "hash": "2711d530959f26019c975a57a64a7b4a29e1c2b9bdd7341b03a02057f2c34a89"
      }
    }
  },
  "nbformat": 4,
  "nbformat_minor": 0
}
